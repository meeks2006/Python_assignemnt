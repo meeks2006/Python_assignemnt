{
  "nbformat": 4,
  "nbformat_minor": 0,
  "metadata": {
    "colab": {
      "provenance": [],
      "authorship_tag": "ABX9TyPR2mGASsFi8EAwwzG1StDh",
      "include_colab_link": true
    },
    "kernelspec": {
      "name": "python3",
      "display_name": "Python 3"
    },
    "language_info": {
      "name": "python"
    }
  },
  "cells": [
    {
      "cell_type": "markdown",
      "metadata": {
        "id": "view-in-github",
        "colab_type": "text"
      },
      "source": [
        "<a href=\"https://colab.research.google.com/github/meeks2006/Python_assignemnt/blob/main/python_assignment.ipynb\" target=\"_parent\"><img src=\"https://colab.research.google.com/assets/colab-badge.svg\" alt=\"Open In Colab\"/></a>"
      ]
    },
    {
      "cell_type": "markdown",
      "source": [
        "---\n",
        "#PYTHON ASSIGNEMNT\n",
        "---"
      ],
      "metadata": {
        "id": "3YmiWLEs1eBp"
      }
    },
    {
      "cell_type": "markdown",
      "source": [
        "#Q1. L is a list defined as L= [11, 12, 13, 14].\n",
        "---\n",
        "(i) WAP to add 50 and 60 to L.\n",
        "\n",
        "(ii) WAP to remove 11 and 13from L.\n",
        "\n",
        "(iii) WAP to sort L in ascending order.\n",
        "\n",
        "(iv) WAP to sort L in descending order.\n",
        "\n",
        "(v) WAP to search for 13 in L.\n",
        "\n",
        "(vi) WAP to count the number of elements present in L.\n",
        "\n",
        "(vii) WAP to sum all the elements in L.\n",
        "\n",
        "(viii) WAP to sum all ODD numbers in L.\n",
        "\n",
        "(ix) WAP to sum all EVEN numbers in L.\n",
        "\n",
        "(x) WAP to sum all PRIME numbers in L.\n",
        "\n",
        "(xi) WAP to clear all the elements in L.\n",
        "\n",
        "(xii) WAP to delete L.\n",
        "\n",
        "---"
      ],
      "metadata": {
        "id": "b6TM5Lkn1l4O"
      }
    },
    {
      "cell_type": "code",
      "execution_count": null,
      "metadata": {
        "colab": {
          "base_uri": "https://localhost:8080/"
        },
        "id": "xNyTaYtN0XuU",
        "outputId": "291e69df-01b0-4956-f47a-ac3cbdb6db98"
      },
      "outputs": [
        {
          "output_type": "stream",
          "name": "stdout",
          "text": [
            "[11, 12, 13, 14, 50, 60, 17]\n",
            "[12, 14, 50, 60, 17]\n",
            "[12, 14, 17, 50, 60]\n",
            "[60, 50, 17, 14, 12]\n",
            "False\n",
            "True\n",
            "number of elements in the list =  5\n",
            "sum of all the elements =  153\n",
            "sum of all odd elements =  17\n",
            "sum of all even elements =  136\n",
            "sum of all prime numbers in the list =  17\n",
            "[]\n",
            "list does not exist\n"
          ]
        }
      ],
      "source": [
        "L= [11, 12, 13, 14]\n",
        "\n",
        "L.append(50) #adding elements in the list\n",
        "L.append(60)\n",
        "L.append(17)\n",
        "print(L)\n",
        "\n",
        "del L[0] #deleting elements from the list\n",
        "del L[1]\n",
        "print(L)\n",
        "\n",
        "L.sort() #sorting in ascending order\n",
        "print(L)\n",
        "\n",
        "L.sort(reverse=True) #sorting in descending order\n",
        "print(L)\n",
        "\n",
        "print(11 in L) #searching the elements in the list\n",
        "print(60 in L)\n",
        "\n",
        "print(\"number of elements in the list = \", len(L))\n",
        "\n",
        "print (\"sum of all the elements = \", sum(L))\n",
        "\n",
        "add = 0 #sum of all odd numbers\n",
        "for i in L[0:5]:\n",
        "  if i%2!=0:\n",
        "    add += i\n",
        "print(\"sum of all odd elements = \", add)\n",
        "\n",
        "add_again = 0 #sum of all even numbers\n",
        "for i in L[0:5]:\n",
        "  if i%2==0:\n",
        "    add_again += i\n",
        "print(\"sum of all even elements = \", add_again)\n",
        "\n",
        "adding = 0\n",
        "def isprime(n): #funtion to find prime number\n",
        "  if n<2:\n",
        "    return False\n",
        "  for i in range(2, (n//2)+1):\n",
        "    if n%i==0:\n",
        "      return False\n",
        "  return True\n",
        "\n",
        "for num in L:\n",
        "  if isprime(num):\n",
        "    adding += num\n",
        "\n",
        "print(\"sum of all prime numbers in the list = \", adding)\n",
        "\n",
        "L.clear()\n",
        "print(L)\n",
        "\n",
        "try:\n",
        "  del L\n",
        "  print(L)\n",
        "except:\n",
        "  print(\"list does not exist\")\n"
      ]
    },
    {
      "cell_type": "markdown",
      "source": [
        "---\n",
        "#Q2. D is a dictionary defined as D= {1:5.6, 2:7.8, 3:6.6, 4:8.7, 5:7.7).\n",
        "---\n",
        "\n",
        "(i) WAP to add new entry in D; key=8 and value is 8.8\n",
        "\n",
        "(ii) WAP to remove key=2.\n",
        "\n",
        "(iii) WAP to check weather 6 key is present in D.\n",
        "\n",
        "(iv) WAP to count the number of elements present in D.\n",
        "\n",
        "(v) WAP to add all the values present D.\n",
        "\n",
        "(vi) WAP to update the value of 3 to 7.1.\n",
        "\n",
        "(vii) WAP to clear the dictionary.\n",
        "\n",
        "---\n"
      ],
      "metadata": {
        "id": "_XoDcQpm_KsO"
      }
    },
    {
      "cell_type": "code",
      "source": [
        "D = {\n",
        "      1 : 5.6,\n",
        "      2 : 7.8,\n",
        "      3 : 6.6,\n",
        "      4 : 8.7,\n",
        "      5 : 7.7 }\n",
        "D[8] = 8.8\n",
        "print(D)\n",
        "\n",
        "del D[2]\n",
        "print(D)\n",
        "\n",
        "print(1 in D)\n",
        "\n",
        "print(len(D))\n",
        "\n",
        "print(sum(D)) #sum of keys\n",
        "print(sum(D.values())) #sum of values\n",
        "\n",
        "D[3] = 7.1\n",
        "print(D)\n",
        "\n",
        "print(D.clear())"
      ],
      "metadata": {
        "colab": {
          "base_uri": "https://localhost:8080/"
        },
        "id": "7wGsS5GR_uN-",
        "outputId": "8911e6c4-3696-4dd1-8005-4d56b6a5f4a8"
      },
      "execution_count": null,
      "outputs": [
        {
          "output_type": "stream",
          "name": "stdout",
          "text": [
            "{1: 5.6, 2: 7.8, 3: 6.6, 4: 8.7, 5: 7.7, 8: 8.8}\n",
            "{1: 5.6, 3: 6.6, 4: 8.7, 5: 7.7, 8: 8.8}\n",
            "True\n",
            "5\n",
            "21\n",
            "37.4\n",
            "{1: 5.6, 3: 7.1, 4: 8.7, 5: 7.7, 8: 8.8}\n",
            "None\n"
          ]
        }
      ]
    },
    {
      "cell_type": "markdown",
      "source": [
        "---\n",
        "#Q3. S1 is a set defined as S1= [10, 20, 30, 40, 50, 60].\n",
        "#S2 is a set defined as S2= [40, 50, 60, 70, 80, 90].\n",
        "---\n",
        "\n",
        "(i) WAP to add 55 and 66 in Set S1.\n",
        "\n",
        "(ii) WAP to remove 10 and 30 from Set S1.\n",
        "\n",
        "(iii) WAP to check whether 40 is present in S1.\n",
        "\n",
        "(iv) WAP to find the union between SI and S2.\n",
        "\n",
        "(v) WAP to find the intersection between S1 and S2.\n",
        "\n",
        "(vi) WAP to find the S1-S2.\n",
        "\n",
        "---"
      ],
      "metadata": {
        "id": "aulXpu3vDMR2"
      }
    },
    {
      "cell_type": "code",
      "source": [
        "S1= {10, 20, 30, 40, 50, 60}\n",
        "S2= {40, 50, 60, 70, 80, 90}\n",
        "\n",
        "S1.add(55)\n",
        "S1.add(66)\n",
        "print(S1)\n",
        "\n",
        "S1.remove(10)\n",
        "S1.remove(30)\n",
        "print(S1)\n",
        "\n",
        "print(40 in S1)\n",
        "\n",
        "print(S1.union(S2))\n",
        "print(S1.intersection(S2))\n",
        "print(S1-S2) #elements in S1 but not in S2"
      ],
      "metadata": {
        "colab": {
          "base_uri": "https://localhost:8080/"
        },
        "id": "t3GgabPQDWyV",
        "outputId": "544d2303-5e1f-4c9e-8af8-071b0cd7a1c9"
      },
      "execution_count": null,
      "outputs": [
        {
          "output_type": "stream",
          "name": "stdout",
          "text": [
            "{50, 66, 20, 55, 40, 10, 60, 30}\n",
            "{50, 66, 20, 55, 40, 60}\n",
            "True\n",
            "{66, 70, 40, 80, 50, 20, 55, 90, 60}\n",
            "{40, 50, 60}\n",
            "{66, 20, 55}\n"
          ]
        }
      ]
    },
    {
      "cell_type": "markdown",
      "source": [
        "---\n",
        "#Q4. Write the following program.\n",
        "\n",
        "(1) WAP to print 100 random strings whose length between 6 and 8.\n",
        "\n",
        "(ii) WAP to print all prime numbers between 600 and 800.\n",
        "\n",
        "(iii) WAP to print all numbers between 100 and 1000 that are divisible by 7 and 9.\n",
        "\n",
        "---"
      ],
      "metadata": {
        "id": "FzMgQ5PSGUYa"
      }
    },
    {
      "cell_type": "code",
      "source": [
        "import string\n",
        "import random\n",
        "\n",
        "for s in range(100):\n",
        "    length = random.randint(6, 8)  # Random length between 6 and 8\n",
        "    characters = string.ascii_letters + string.digits\n",
        "    random_string = ''.join(random.choice(characters) for s in range(length))\n",
        "    print(random_string,  end = ' ')\n"
      ],
      "metadata": {
        "colab": {
          "base_uri": "https://localhost:8080/"
        },
        "id": "vmznwjOwHarX",
        "outputId": "5c757365-92cd-48bb-e852-6fb64a16bf96"
      },
      "execution_count": null,
      "outputs": [
        {
          "output_type": "stream",
          "name": "stdout",
          "text": [
            "F9DUEo un6Eq3T 6YHIrtg3 VA2ti21 X3GlgK A00Bvg4V xnmB67E KQO8rjlx hDC0ba XWo7Km ZyjR5c W5j39Hpo rTCR3u SiJKKx KwqNyx cEc06Z1y tapoy0X DSKVHcTh Go6noJL 9IK9I9A1 jXgoIK af9xXAr Wgi3aGYb TOrvX3l4 lJQSb8 2cQTXTK bM4dt78 g8llb1ZJ sASiicd 935VVw1K NJI4Y1 a940LGN jiuMJLan KjNvA6mj kalNgsB 10oEBthM TZ3OU5 f9Zf0Cg 5k4xSrU oJTfFR RGVkVl azqElR TgvtbHO DfD81UT 3Db9kcnP 2ERuqS PyVBOGN5 jDRJEqcC v11QMqG vdXQj7h JTqItFPV PILN65W wm4WO7 wRDnnzNN CANztY PE0LsC59 FXJnhhz UsTDxbA YAymmd YZJwGtR 0c6qhz yA8hw7 QjSl7g TPHOG7 JZQEax W5oc8zV apBbMN vgVnlffd QRtBv8 YBvgLA8P L4rLdG BRSfj13I FD3AATK 72ilZWO kBuPPfM GXsEZL L1dy9GQ 0fvMq6 zj25NjRf AxmQWUqM ZyjncEu G6fVqZ tOxkbf M6uldK amNBSHM XJ3qWjrP dCJxd30i H5z8DLGp pYLV12 ntCqWhn kKg9J8 Z8sw5lxH KL5N5s D4jKD96 A2FDcEk8 KZeP3KyD KA0TlPWE MPE9gR eTcnqc GE08uxC "
          ]
        }
      ]
    },
    {
      "cell_type": "code",
      "source": [
        "#printing all prime numbers between 600 and 800\n",
        "def is_prime(n):\n",
        "  for i in range(2, (n//2)+1):\n",
        "    if n < 2:\n",
        "      return False\n",
        "    if n%i==0:\n",
        "      return False\n",
        "  return True\n",
        "\n",
        "for num in range(600,800):\n",
        "  if is_prime(num):\n",
        "    print(num,  end = ' ')"
      ],
      "metadata": {
        "colab": {
          "base_uri": "https://localhost:8080/"
        },
        "id": "AFK3A8sHKzFW",
        "outputId": "a0e194a4-5745-42e9-cd29-4f8d63b1b446"
      },
      "execution_count": null,
      "outputs": [
        {
          "output_type": "stream",
          "name": "stdout",
          "text": [
            "601 607 613 617 619 631 641 643 647 653 659 661 673 677 683 691 701 709 719 727 733 739 743 751 757 761 769 773 787 797 "
          ]
        }
      ]
    },
    {
      "cell_type": "code",
      "source": [
        "#printing all numbers tht are divisible by 7 and 9\n",
        "for i in range(100,1000):\n",
        "  if i%7==0 and i%9==0:\n",
        "    print(i , end = ' ')"
      ],
      "metadata": {
        "colab": {
          "base_uri": "https://localhost:8080/"
        },
        "id": "8ScXY1E9L82e",
        "outputId": "7c63a6d4-2b60-4e15-e8c4-8d92ec8f2e90"
      },
      "execution_count": null,
      "outputs": [
        {
          "output_type": "stream",
          "name": "stdout",
          "text": [
            "126 189 252 315 378 441 504 567 630 693 756 819 882 945 "
          ]
        }
      ]
    },
    {
      "cell_type": "markdown",
      "source": [
        "---\n",
        "#Q5 WAP to create two lists of 10 random numbers between 10 and 30, Find\n",
        "---\n",
        "(1) Common numbers in the two lists\n",
        "\n",
        "(ii) Unique numbers in both the list\n",
        "\n",
        "(iii) Minimum in both the list\n",
        "\n",
        "(iv) Maximum in both the list\n",
        "\n",
        "(v) Sum of both the lists\n",
        "\n",
        "---"
      ],
      "metadata": {
        "id": "SQNItM4INDrs"
      }
    },
    {
      "cell_type": "code",
      "source": [
        "import random\n",
        "l1 = [random.randint(10,20) for l in range(5)]\n",
        "l2 = [random.randint(10,20) for l in range(5)]\n",
        "print(l1)\n",
        "print(l2)\n",
        "\n",
        "common = list(set(l1).intersection(set(l2))) #Common numbers\n",
        "print(\"Common Numbers:\", common)\n",
        "\n",
        "unique = list(set(l1) ^ set(l2)) #unique numbers in both lists\n",
        "print(\"Unique Numbers:\", unique)\n",
        "\n",
        "print(\"Minimum in List 1:\", min(l1)) #Minimum in both lists\n",
        "print(\"Minimum in List 2:\", min(l2))\n",
        "\n",
        "print(\"Maximum in List 1:\", max(l1)) #Maximum in both lists\n",
        "print(\"Maximum in List 2:\", max(l2))\n",
        "\n",
        "print(\"Sum of List 1:\", sum(l1)) #Sum of both lists\n",
        "print(\"Sum of List 2:\", sum(l2))\n"
      ],
      "metadata": {
        "colab": {
          "base_uri": "https://localhost:8080/"
        },
        "id": "x30pKgeyNK_k",
        "outputId": "06c2c312-db7a-423e-90d6-94e286dd0577"
      },
      "execution_count": null,
      "outputs": [
        {
          "output_type": "stream",
          "name": "stdout",
          "text": [
            "[20, 11, 16, 18, 12]\n",
            "[13, 20, 12, 17, 19]\n",
            "Common Numbers: [12, 20]\n",
            "Unique Numbers: [16, 17, 18, 19, 11, 13]\n",
            "Minimum in List 1: 11\n",
            "Minimum in List 2: 12\n",
            "Maximum in List 1: 20\n",
            "Maximum in List 2: 20\n",
            "Sum of List 1: 77\n",
            "Sum of List 2: 81\n"
          ]
        }
      ]
    },
    {
      "cell_type": "markdown",
      "source": [
        "---\n",
        "Q6. WAP to create a list of 100 random numbers between 100 and 900. Count and print the:\n",
        "---\n",
        "\n",
        "(i) All odd numbers\n",
        "\n",
        "(ii) All even numbers\n",
        "\n",
        "(iii) All prime numbers\n",
        "\n",
        "---\n"
      ],
      "metadata": {
        "id": "f-vKqxmQUwf9"
      }
    },
    {
      "cell_type": "code",
      "source": [
        "import random\n",
        "\n",
        "def isprime(n):\n",
        "  if n < 2:\n",
        "      return False\n",
        "  for i in range(2, (n//2)+1):\n",
        "    if n%i==0:\n",
        "      return False\n",
        "  return True\n",
        "\n",
        "def odd(n):\n",
        "  if n % 2 != 0:\n",
        "    return True\n",
        "\n",
        "def even(n):\n",
        "  if n % 2 ==0:\n",
        "    return True\n",
        "\n",
        "l = [random.randint(100,900) for _ in range(100)]\n",
        "print(\"list of 100 numbers =  \", l)\n",
        "\n",
        "print(\"\\nall odd numbers = \")\n",
        "for s in l:\n",
        "  if odd(s):\n",
        "    print(s, end = ' ')\n",
        "\n",
        "print(\"\\n\")\n",
        "\n",
        "print(\"all prime numbers = \")\n",
        "for s in l:\n",
        "  if isprime(s):\n",
        "    print(s, end = ' ')\n",
        "\n",
        "print(\"\\n\")\n",
        "\n",
        "print(\"all even numbers = \")\n",
        "for s in l:\n",
        "  if even(s):\n",
        "    print(s, end = ' ')"
      ],
      "metadata": {
        "colab": {
          "base_uri": "https://localhost:8080/"
        },
        "id": "yWtlGgSyWy-m",
        "outputId": "0b42452c-d05e-4975-afd8-1698040a9d7b"
      },
      "execution_count": null,
      "outputs": [
        {
          "output_type": "stream",
          "name": "stdout",
          "text": [
            "list of 100 numbers =   [696, 771, 826, 809, 187, 591, 831, 563, 575, 894, 808, 687, 252, 688, 760, 199, 674, 780, 551, 361, 191, 783, 160, 628, 333, 860, 842, 249, 595, 609, 736, 360, 825, 493, 804, 147, 818, 873, 599, 214, 161, 320, 254, 310, 523, 107, 594, 580, 808, 253, 485, 570, 788, 835, 428, 289, 663, 652, 885, 625, 412, 833, 471, 830, 885, 799, 771, 133, 431, 767, 801, 510, 753, 604, 591, 564, 628, 459, 385, 768, 434, 593, 646, 812, 782, 584, 409, 495, 118, 823, 617, 443, 509, 203, 634, 492, 519, 253, 598, 766]\n",
            "\n",
            "all odd numbers = \n",
            "771 809 187 591 831 563 575 687 199 551 361 191 783 333 249 595 609 825 493 147 873 599 161 523 107 253 485 835 289 663 885 625 833 471 885 799 771 133 431 767 801 753 591 459 385 593 409 495 823 617 443 509 203 519 253 \n",
            "\n",
            "all prime numbers = \n",
            "809 563 199 191 599 523 107 431 593 409 823 617 443 509 \n",
            "\n",
            "all even numbers = \n",
            "696 826 894 808 252 688 760 674 780 160 628 860 842 736 360 804 818 214 320 254 310 594 580 808 570 788 428 652 412 830 510 604 564 628 768 434 646 812 782 584 118 634 492 598 766 "
          ]
        }
      ]
    },
    {
      "cell_type": "markdown",
      "source": [
        "---\n",
        "#Q7. D is a dictionary defined as D={1:\"One\",2:\"Two\", 3:\"Three\",4:\"Four\", 5:\"Five\").\n",
        "---\n",
        "\n",
        "WAP to read all the keys and values from dictionary and write to the file in the given below format.\n",
        "\n",
        "Keyl, Valuel\n",
        "\n",
        "Key2, Value2\n",
        "\n",
        "Key3, Value3\n",
        "\n",
        "---"
      ],
      "metadata": {
        "id": "0FeEPMHdbH3z"
      }
    },
    {
      "cell_type": "code",
      "source": [
        "D = {\n",
        "      1 : \"One\",\n",
        "      2 : \"Two\",\n",
        "      3 : \"Three\",\n",
        "      4 : \"Four\",\n",
        "      5 : \"Five\"  }\n",
        "\n",
        "for key, value in D.items():\n",
        "  print(key, \":\", value)"
      ],
      "metadata": {
        "colab": {
          "base_uri": "https://localhost:8080/"
        },
        "id": "ruSwrL_ptvTp",
        "outputId": "2b37a37f-b010-4b32-ec2b-b0bef9c0584d"
      },
      "execution_count": null,
      "outputs": [
        {
          "output_type": "stream",
          "name": "stdout",
          "text": [
            "1 : One\n",
            "2 : Two\n",
            "3 : Three\n",
            "4 : Four\n",
            "5 : Five\n"
          ]
        }
      ]
    },
    {
      "cell_type": "markdown",
      "source": [
        "---\n",
        "#Q8. L is a list defined as L=(\"One\", \"Two\", \"Three\", \"Four\",\"Five\").\n",
        "---\n",
        "\n",
        "WAP to count the length of reach element from a list and write to the file in the given below format:\n",
        "\n",
        "One, 3\n",
        "\n",
        "Two, 3\n",
        "\n",
        "Four, 4\n",
        "\n",
        "---"
      ],
      "metadata": {
        "id": "N4JO7LQ9u2TE"
      }
    },
    {
      "cell_type": "code",
      "source": [
        "L = [\"One\", \"Two\", \"Three\", \"Four\",\"Five\"]\n",
        "for l in L:\n",
        "  print( l ,\"-->\", len(l))"
      ],
      "metadata": {
        "colab": {
          "base_uri": "https://localhost:8080/"
        },
        "id": "Fd6nMke4vE2E",
        "outputId": "d57fb7e0-7a30-4fec-9964-718b905a3c05"
      },
      "execution_count": null,
      "outputs": [
        {
          "output_type": "stream",
          "name": "stdout",
          "text": [
            "One --> 3\n",
            "Two --> 3\n",
            "Three --> 5\n",
            "Four --> 4\n",
            "Five --> 4\n"
          ]
        }
      ]
    },
    {
      "cell_type": "markdown",
      "source": [
        "---\n",
        "#Q9. Write to the file 100 random strings whose length between 10 and 15.\n",
        "---"
      ],
      "metadata": {
        "id": "_GJviTDew0G2"
      }
    },
    {
      "cell_type": "code",
      "source": [
        "import random\n",
        "import string\n",
        "\n",
        "with open(\"random_strings.txt\", \"w\") as file:\n",
        "    for _ in range(100):\n",
        "        length = random.randint(10, 15)  # Random length between 10 and 15\n",
        "        rand_str = ''.join(random.choices(string.ascii_letters + string.digits, k=length))\n",
        "        file.write(rand_str + \"\\n\")  # Write each string on a new line\n",
        "\n",
        "print(\"100 random strings written to 'random_strings.txt'\")\n"
      ],
      "metadata": {
        "id": "iPsHexa-xA7w"
      },
      "execution_count": null,
      "outputs": []
    },
    {
      "cell_type": "markdown",
      "source": [
        "---\n",
        "#Q10. Write to the file all prime numbers between 600 and 800.\n",
        "---"
      ],
      "metadata": {
        "id": "dLBLSGLl1qON"
      }
    },
    {
      "cell_type": "code",
      "source": [
        "def isprime(n):\n",
        "    if n < 2:\n",
        "        return False\n",
        "    for i in range(2, (n // 2) + 1):\n",
        "        if n % i == 0:\n",
        "            return False\n",
        "    return True\n",
        "\n",
        "# Write all prime numbers to a file\n",
        "with open(\"prime_600_800.txt\", \"w\") as file:\n",
        "    for num in range(600, 801):\n",
        "        if isprime(num):\n",
        "            file.write(str(num) + \"\\n\")\n",
        "\n",
        "print(\"All prime numbers between 600 and 800 written to 'prime_600_800.txt'\")\n"
      ],
      "metadata": {
        "id": "xfk0Vbp41yi7"
      },
      "execution_count": null,
      "outputs": []
    },
    {
      "cell_type": "markdown",
      "source": [
        "---\n",
        "#Q11. WAP to calculate the time taken by a program.\n",
        "---"
      ],
      "metadata": {
        "id": "gY51Wq4q2C47"
      }
    },
    {
      "cell_type": "code",
      "source": [
        "import time\n",
        "\n",
        "# Start timing\n",
        "start = time.time()\n",
        "\n",
        "# --- Code block to measure ---\n",
        "sum = 0\n",
        "for i in range(1, 1000000):\n",
        "    sum += i\n",
        "# -----------------------------\n",
        "\n",
        "# End timing\n",
        "end = time.time()\n",
        "\n",
        "print(\"Time taken by the program:\", end - start, \"seconds\")\n"
      ],
      "metadata": {
        "colab": {
          "base_uri": "https://localhost:8080/"
        },
        "id": "5bupC-L32dy5",
        "outputId": "f9995c3e-03c4-4121-c41e-f7932722baf4"
      },
      "execution_count": null,
      "outputs": [
        {
          "output_type": "stream",
          "name": "stdout",
          "text": [
            "Time taken by the program: 0.11863541603088379 seconds\n"
          ]
        }
      ]
    },
    {
      "cell_type": "markdown",
      "source": [
        "---\n",
        "#Q12. WAP to sort following number of elements in a list, calculate time taken and plot the graph.\n",
        "---\n",
        "Number of elements in list\n",
        "\n",
        "Time Taken\n",
        "\n",
        "5k\n",
        "\n",
        "T1\n",
        "\n",
        "10k\n",
        "\n",
        "T2\n",
        "\n",
        "15k\n",
        "\n",
        "T3\n",
        "\n",
        "20k\n",
        "\n",
        "T4\n",
        "\n",
        "25k\n",
        "\n",
        "T5\n",
        "\n",
        "---\n"
      ],
      "metadata": {
        "id": "vqK_5gzZ21sy"
      }
    },
    {
      "cell_type": "code",
      "source": [
        "import random\n",
        "import time\n",
        "import matplotlib.pyplot as plt\n",
        "\n",
        "# List sizes to test\n",
        "sizes = [5000, 10000, 15000, 20000, 25000]\n",
        "times = []\n",
        "\n",
        "# Measure sorting time for each size\n",
        "for size in sizes:\n",
        "    lst = [random.randint(1, 100000) for _ in range(size)]\n",
        "    start = time.time()\n",
        "    lst.sort()\n",
        "    end = time.time()\n",
        "    duration = end - start\n",
        "    times.append(duration)\n",
        "    print(f\"Sorted {size} elements in {duration:.6f} seconds\")\n",
        "\n",
        "# Plotting\n",
        "plt.plot(sizes, times, marker='o', linestyle='-', color='blue')\n",
        "plt.title(\"List Size vs Sorting Time\")\n",
        "plt.xlabel(\"Number of Elements\")\n",
        "plt.ylabel(\"Time Taken (seconds)\")\n",
        "plt.grid(True)\n",
        "plt.show()\n"
      ],
      "metadata": {
        "colab": {
          "base_uri": "https://localhost:8080/",
          "height": 563
        },
        "id": "4hS0owPb3Uqi",
        "outputId": "8706ca31-255d-417b-8191-4ae1847be219"
      },
      "execution_count": null,
      "outputs": [
        {
          "output_type": "stream",
          "name": "stdout",
          "text": [
            "Sorted 5000 elements in 0.000756 seconds\n",
            "Sorted 10000 elements in 0.001683 seconds\n",
            "Sorted 15000 elements in 0.002633 seconds\n",
            "Sorted 20000 elements in 0.003808 seconds\n",
            "Sorted 25000 elements in 0.005252 seconds\n"
          ]
        },
        {
          "output_type": "display_data",
          "data": {
            "text/plain": [
              "<Figure size 640x480 with 1 Axes>"
            ],
            "image/png": "[encoded data removed]"
          },
          "metadata": {}
        }
      ]
    },
    {
      "cell_type": "markdown",
      "source": [
        "---\n",
        "#Q13. WAP to create a dictionary of student marks in five subjects and you have to find the student having maximum and minimum average marks.\n",
        "---"
      ],
      "metadata": {
        "id": "bwlaZvfe3h6I"
      }
    },
    {
      "cell_type": "code",
      "source": [
        "# Dictionary of students and their marks in 5 subjects\n",
        "students = {\n",
        "    \"Meena\": [89, 76, 92, 85, 78],\n",
        "    \"Ravi\": [67, 74, 81, 69, 73],\n",
        "    \"Asha\": [91, 88, 95, 92, 90],\n",
        "    \"Rohan\": [55, 60, 58, 65, 62],\n",
        "    \"Divya\": [79, 85, 84, 83, 80]\n",
        "}\n",
        "\n",
        "# Store averages in a separate dictionary\n",
        "averages = {}\n",
        "\n",
        "for name, marks in students.items():\n",
        "    avg = sum(marks) // len(marks)\n",
        "    averages[name] = avg\n",
        "\n",
        "# Find student with max and min average\n",
        "max_student = max(averages, key=averages.get)\n",
        "min_student = min(averages, key=averages.get)\n",
        "\n",
        "print(f\"Student with maximum average marks: {max_student} ({averages[max_student]:.2f})\")\n",
        "print(f\"Student with minimum average marks: {min_student} ({averages[min_student]:.2f})\")\n"
      ],
      "metadata": {
        "colab": {
          "base_uri": "https://localhost:8080/"
        },
        "id": "V4-7bGn13s7f",
        "outputId": "fcd79f29-d2c2-4801-d78f-2631afcdb1cf"
      },
      "execution_count": null,
      "outputs": [
        {
          "output_type": "stream",
          "name": "stdout",
          "text": [
            "Student with maximum average marks: Asha (91.00)\n",
            "Student with minimum average marks: Rohan (60.00)\n"
          ]
        }
      ]
    }
  ]
}